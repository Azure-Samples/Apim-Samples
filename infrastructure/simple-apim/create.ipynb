{
 "cells": [
  {
   "cell_type": "markdown",
   "metadata": {},
   "source": [
    "# Infrastructure: Simple API Management\n",
    "\n",
    "Sets up the infrastructure for a simple API Management setup with a publicly-accessible APIM instance.\n",
    "\n",
    "⌚ **Expected *Run All* runtime: ~3 minutes**"
   ]
  },
  {
   "cell_type": "markdown",
   "metadata": {},
   "source": [
    "### 🛠️ 1. Initialize notebook variables\n",
    "\n",
    "Configures everything that's needed for deployment. \n",
    "\n",
    "❗️ **Modify entries under _1) User-defined parameters_**."
   ]
  },
  {
   "cell_type": "code",
   "execution_count": null,
   "metadata": {},
   "outputs": [],
   "source": [
    "import utils\n",
    "from apimtypes import *\n",
    "\n",
    "# 1) User-defined parameters (change these as needed)\n",
    "rg_location = 'eastus2'\n",
    "index       = 3\n",
    "apim_sku    = APIM_SKU.BASICV2\n",
    "deployment  = INFRASTRUCTURE.SIMPLE_APIM\n",
    "\n",
    "# 2) Service-defined parameters (please do not change these)\n",
    "rg_name = utils.get_infra_rg_name(deployment, index)\n",
    "\n",
    "# 3) Define the APIs and their operations and policies\n",
    "\n",
    "# Policies\n",
    "hello_world_policy_xml = utils.read_policy_xml(HELLO_WORLD_XML_POLICY_PATH)\n",
    "\n",
    "# Hello World (Root)\n",
    "api_hwroot_get = GET_APIOperation('This is a GET for API 1', hello_world_policy_xml)\n",
    "api_hwroot = API('hello-world', 'Hello World', '', 'This is the root API for Hello World', operations = [api_hwroot_get])\n",
    "\n",
    "# APIs Array\n",
    "apis: List[API] = [api_hwroot]\n",
    "\n",
    "utils.print_ok('Notebook initialized')"
   ]
  },
  {
   "cell_type": "markdown",
   "metadata": {},
   "source": [
    "### 🚀 2. Create deployment using Bicep\n",
    "\n",
    "Creates the bicep deployment into the previously-specified resource group. A bicep parameters file will be created prior to execution."
   ]
  },
  {
   "cell_type": "code",
   "execution_count": null,
   "metadata": {},
   "outputs": [],
   "source": [
    "import utils\n",
    "\n",
    "# 1) Define the Bicep parameters with serialized APIs\n",
    "bicep_parameters = {\n",
    "    'apimSku'   : {'value': apim_sku.value},\n",
    "    'apis'      : {'value': [api.to_dict() for api in apis]}\n",
    "}\n",
    "\n",
    "# 2) Run the deployment\n",
    "output = utils.create_bicep_deployment_group(rg_name, rg_location, deployment, bicep_parameters)\n",
    "\n",
    "# 3) Check the deployment outputs\n",
    "if not output.success:\n",
    "    raise SystemExit('Deployment failed')\n",
    "\n",
    "if output.success and output.json_data:\n",
    "    apim_gateway_url = output.get('apimResourceGatewayURL', 'APIM API Gateway URL')\n",
    "\n",
    "utils.print_ok('Deployment completed')"
   ]
  },
  {
   "cell_type": "markdown",
   "metadata": {},
   "source": [
    "### ✅ 3. Verify API Request Success\n",
    "\n",
    "Assert that the deployment was successful by making simple calls to APIM. "
   ]
  },
  {
   "cell_type": "code",
   "execution_count": null,
   "metadata": {},
   "outputs": [],
   "source": [
    "from apimrequests import ApimRequests\n",
    "\n",
    "reqs = ApimRequests(apim_gateway_url)\n",
    "\n",
    "output = reqs.singleGet('/', msg = 'Calling Hello World (Root) API')\n",
    "\n",
    "utils.print_ok('All done!')"
   ]
  },
  {
   "cell_type": "markdown",
   "metadata": {},
   "source": [
    "### 🗑️ Clean up resources\n",
    "\n",
    "When you're finished experimenting, it's advisable to remove all associated resources from Azure to avoid unnecessary cost.\n",
    "Use the [clean-up notebook](clean-up.ipynb) for that."
   ]
  }
 ],
 "metadata": {
  "kernelspec": {
   "display_name": ".venv",
   "language": "python",
   "name": "python3"
  },
  "language_info": {
   "codemirror_mode": {
    "name": "ipython",
    "version": 3
   },
   "file_extension": ".py",
   "mimetype": "text/x-python",
   "name": "python",
   "nbconvert_exporter": "python",
   "pygments_lexer": "ipython3",
   "version": "3.12.10"
  }
 },
 "nbformat": 4,
 "nbformat_minor": 2
}
