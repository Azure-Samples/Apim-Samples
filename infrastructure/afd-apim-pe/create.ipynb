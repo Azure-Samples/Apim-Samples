{
 "cells": [
  {
   "cell_type": "markdown",
   "metadata": {},
   "source": [
    "### 🛠️ Configure Infrastructure Parameters & Create the Infrastructure\n",
    "\n",
    "Set your desired parameters for the AFD-APIM-PE infrastructure deployment.\n",
    "\n",
    "❗️ **Modify entries under _User-defined parameters_**.\n",
    "\n",
    "**Note:** This infrastructure includes Azure Front Door with API Management using private endpoints. The creation process includes two phases: initial deployment with public access, private link approval, and then disabling public access."
   ]
  },
  {
   "cell_type": "code",
   "execution_count": null,
   "metadata": {},
   "outputs": [],
   "source": [
    "import utils\n",
    "from apimtypes import *\n",
    "\n",
    "# ------------------------------\n",
    "#    USER CONFIGURATION\n",
    "# ------------------------------\n",
    "\n",
    "rg_location = 'eastus2'             # Azure region for deployment\n",
    "index       = 1                     # Infrastructure index (use different numbers for multiple environments)\n",
    "apim_sku    = APIM_SKU.STANDARDV2   # Options: 'STANDARDV2', 'PREMIUMV2' (Basic not supported for private endpoints)\n",
    "\n",
    "\n",
    "\n",
    "# ------------------------------\n",
    "#    SYSTEM CONFIGURATION\n",
    "# ------------------------------\n",
    "\n",
    "inb_helper = utils.InfrastructureNotebookHelper(rg_location, INFRASTRUCTURE.AFD_APIM_PE, index, apim_sku) \n",
    "inb_helper.create_infrastructure()\n",
    "\n",
    "utils.print_ok('All done!')"
   ]
  },
  {
   "cell_type": "markdown",
   "metadata": {},
   "source": [
    "### 🗑️ Clean up resources\n",
    "\n",
    "When you're finished experimenting, it's advisable to remove all associated resources from Azure to avoid unnecessary cost.\n",
    "Use the [clean-up notebook](clean-up.ipynb) for that."
   ]
  }
 ],
 "metadata": {
  "kernelspec": {
   "display_name": "APIM Samples Python 3.12",
   "language": "python",
   "name": "apim-samples"
  },
  "language_info": {
   "codemirror_mode": {
    "name": "ipython",
    "version": 3
   },
   "file_extension": ".py",
   "mimetype": "text/x-python",
   "name": "python",
   "nbconvert_exporter": "python",
   "pygments_lexer": "ipython3",
   "version": "3.12.10"
  }
 },
 "nbformat": 4,
 "nbformat_minor": 2
}
