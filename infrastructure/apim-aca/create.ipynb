{
 "cells": [
  {
   "cell_type": "markdown",
   "metadata": {},
   "source": [
    "### 🛠️ 1. Initialize notebook variables\n",
    "\n",
    "Configures everything that's needed for deployment. \n",
    "\n",
    "❗️ **Modify entries under _1) User-defined parameters_**."
   ]
  },
  {
   "cell_type": "code",
   "execution_count": null,
   "metadata": {},
   "outputs": [],
   "source": [
    "import utils\n",
    "from apimtypes import *\n",
    "\n",
    "# 1) User-defined parameters (change these as needed)\n",
    "rg_location = 'eastus2'\n",
    "index       = 1\n",
    "apim_sku    = APIM_SKU.BASICV2\n",
    "deployment  = INFRASTRUCTURE.APIM_ACA\n",
    "\n",
    "# 2) Service-defined parameters (please do not change these)\n",
    "rg_name = utils.get_infra_rg_name(deployment, index)\n",
    "rg_tags = utils.build_infrastructure_tags(deployment)\n",
    "\n",
    "# 3) Define the APIs and their operations and policies\n",
    "\n",
    "# Policies\n",
    "hello_world_policy_xml      = utils.read_policy_xml(HELLO_WORLD_XML_POLICY_PATH)\n",
    "backend_polixy_xml          = utils.read_policy_xml(BACKEND_XML_POLICY_PATH)\n",
    "aca_backend_1_policy_xml    = backend_polixy_xml.format(backend_id = 'aca-backend-1')\n",
    "aca_backend_2_policy_xml    = backend_polixy_xml.format(backend_id = 'aca-backend-2')\n",
    "aca_backend_pool_policy_xml = backend_polixy_xml.format(backend_id = 'aca-backend-pool')\n",
    "\n",
    "# Hello World (Root)\n",
    "api_hwroot_get = GET_APIOperation('This is a GET for Hello World in the root', hello_world_policy_xml)\n",
    "api_hwroot  = API('hello-world', 'Hello World', '', 'This is the root API for Hello World', operations = [api_hwroot_get])\n",
    "\n",
    "# Hello World (ACA Backend 1)\n",
    "api_hwaca_1_get = GET_APIOperation('This is a GET for Hello World on ACA Backend 1')\n",
    "api_hwaca_1 = API('hello-world-aca-1', 'Hello World (ACA 1)', '/aca-1', 'This is the ACA API for Backend 1', policyXml = aca_backend_1_policy_xml, operations = [api_hwaca_1_get])\n",
    "\n",
    "# Hello World (ACA Backend 2)\n",
    "api_hwaca_2_get = GET_APIOperation('This is a GET for Hello World on ACA Backend 2')\n",
    "api_hwaca_2 = API('hello-world-aca-2', 'Hello World (ACA 2)', '/aca-2', 'This is the ACA API for Backend 2', policyXml = aca_backend_2_policy_xml, operations = [api_hwaca_2_get])\n",
    "\n",
    "# Hello World (ACA Backend Pool)\n",
    "api_hwaca_pool_get = GET_APIOperation('This is a GET for Hello World on ACA Backend Pool')\n",
    "api_hwaca_pool = API('hello-world-aca-pool', 'Hello World (ACA Pool)', '/aca-pool', 'This is the ACA API for Backend Pool', policyXml = aca_backend_pool_policy_xml, operations = [api_hwaca_pool_get])\n",
    "\n",
    "# APIs Array\n",
    "apis: List[API] = [api_hwroot, api_hwaca_1, api_hwaca_2, api_hwaca_pool]\n",
    "\n",
    "utils.print_ok('Notebook initialized')"
   ]
  },
  {
   "cell_type": "markdown",
   "metadata": {},
   "source": [
    "### 🚀 2. Create deployment using Bicep\n",
    "\n",
    "Creates the bicep deployment into the previously-specified resource group. A bicep parameters file will be created prior to execution."
   ]
  },
  {
   "cell_type": "code",
   "execution_count": null,
   "metadata": {},
   "outputs": [],
   "source": [
    "import utils\n",
    "\n",
    "# 1) Define the Bicep parameters with serialized APIs\n",
    "bicep_parameters = {\n",
    "    'apimSku'   : {'value': apim_sku.value},\n",
    "    'apis'      : {'value': [api.to_dict() for api in apis]}\n",
    "}\n",
    "\n",
    "# 2) Run the deployment\n",
    "output = utils.create_bicep_deployment_group(rg_name, rg_location, deployment, bicep_parameters, rg_tags = rg_tags)\n",
    "\n",
    "# 3) Check the deployment outputs\n",
    "if not output.success:\n",
    "    raise SystemExit('Deployment failed')\n",
    "\n",
    "if output.success and output.json_data:\n",
    "    apim_gateway_url    = output.get('apimResourceGatewayURL', 'APIM API Gateway URL')\n",
    "    aca_url_1           = output.get('acaUrl1', 'ACA Backend 1 URL')\n",
    "    aca_url_2           = output.get('acaUrl2', 'ACA Backend 2 URL')\n",
    "\n",
    "utils.print_ok('Deployment completed')"
   ]
  },
  {
   "cell_type": "markdown",
   "metadata": {},
   "source": [
    "### ✅ 3. Verify API Request Success\n",
    "\n",
    "Assert that the deployment was successful by making simple calls to APIM. "
   ]
  },
  {
   "cell_type": "code",
   "execution_count": null,
   "metadata": {},
   "outputs": [],
   "source": [
    "import utils\n",
    "from apimrequests import ApimRequests\n",
    "from apimtesting import ApimTesting\n",
    "\n",
    "reqs = ApimRequests(apim_gateway_url)\n",
    "tests = ApimTesting(\"APIM-ACA Tests\")\n",
    "\n",
    "output = reqs.singleGet('/', msg = 'Calling Hello World (Root) API')\n",
    "tests.verify(output, 'Hello World from API Management!')\n",
    "\n",
    "output = reqs.singleGet('/aca-1/', msg = 'Calling Hello World (ACA Backend 1) API')\n",
    "tests.verify(output, 'Hello World!')\n",
    "\n",
    "output = reqs.singleGet('/aca-2/', msg = 'Calling Hello World (ACA Backend 2) API')\n",
    "tests.verify(output, 'Hello World!')\n",
    "\n",
    "output = reqs.multiGet('/aca-pool/', 3, msg = 'Calling Hello World (ACA Backend Pool) API')\n",
    "tests.verify(len(output), 3)\n",
    "tests.verify(output[0]['response'], 'Hello World!')\n",
    "tests.verify(output[1]['response'], 'Hello World!')\n",
    "tests.verify(output[2]['response'], 'Hello World!')\n",
    "\n",
    "tests.print_summary()\n",
    "\n",
    "utils.print_ok('All done!')"
   ]
  },
  {
   "cell_type": "markdown",
   "metadata": {},
   "source": [
    "### 🗑️ Clean up resources\n",
    "\n",
    "When you're finished experimenting, it's advisable to remove all associated resources from Azure to avoid unnecessary cost.\n",
    "Use the [clean-up notebook](clean-up.ipynb) for that."
   ]
  }
 ],
 "metadata": {
  "kernelspec": {
   "display_name": "APIM Samples Python 3.12",
   "language": "python",
   "name": "apim-samples"
  },
  "language_info": {
   "codemirror_mode": {
    "name": "ipython",
    "version": 3
   },
   "file_extension": ".py",
   "mimetype": "text/x-python",
   "name": "python",
   "nbconvert_exporter": "python",
   "pygments_lexer": "ipython3",
   "version": "3.12.10"
  }
 },
 "nbformat": 4,
 "nbformat_minor": 2
}
