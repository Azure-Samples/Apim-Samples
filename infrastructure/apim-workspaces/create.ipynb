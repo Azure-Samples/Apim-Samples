{
 "cells": [
  {
   "cell_type": "markdown",
   "metadata": {},
   "source": [
    "### 🛠️ 1. Initialize notebook variables\n",
    "\n",
    "Configures everything that's needed for deployment. \n",
    "\n",
    "❗️ **Modify entries under _1) User-defined parameters_**."
   ]
  },
  {
   "cell_type": "code",
   "execution_count": 1,
   "metadata": {},
   "outputs": [
    {
     "name": "stdout",
     "output_type": "stream",
     "text": [
      "👉🏽 \u001b[1;34mResource group name      : apim-infra-apim-workspaces-1\u001b[0m \n",
      "📄 Reading policy XML from  : c:\\Users\\robertlacher\\source\\Repos\\Apim-Samples\\shared\\apim-policies\\fragments\\pf-authz-match-all.xml\n",
      "📄 Reading policy XML from  : c:\\Users\\robertlacher\\source\\Repos\\Apim-Samples\\shared\\apim-policies\\fragments\\pf-authz-match-any.xml\n",
      "📄 Reading policy XML from  : c:\\Users\\robertlacher\\source\\Repos\\Apim-Samples\\shared\\apim-policies\\fragments\\pf-http-response-200.xml\n",
      "📄 Reading policy XML from  : c:\\Users\\robertlacher\\source\\Repos\\Apim-Samples\\shared\\apim-policies\\fragments\\pf-remove-request-headers.xml\n",
      "📄 Reading policy XML from  : C:\\Users\\robertlacher\\source\\Repos\\Apim-Samples\\shared\\apim-policies\\hello-world.xml\n",
      "\n",
      "✅ \u001b[1;32mNotebook initialized\u001b[0m ⌚ 12:56:06.226056 \n"
     ]
    }
   ],
   "source": [
    "import utils\n",
    "from apimtypes import *\n",
    "\n",
    "# 1) User-defined parameters (change these as needed)\n",
    "rg_location     = 'eastus2'\n",
    "index           = 1\n",
    "apim_sku        = APIM_SKU.PREMIUM\n",
    "deployment      = INFRASTRUCTURE.APIM_WORKSPACES\n",
    "reveal_backend  = True  # Set to True to reveal the backend details in the API operations\n",
    "\n",
    "# 2) Service-defined parameters (please do not change these)\n",
    "rg_name = utils.get_infra_rg_name(deployment, index)\n",
    "rg_tags = utils.build_infrastructure_tags(deployment)\n",
    "\n",
    "# 3) Set up the policy fragments\n",
    "pfs: List[PolicyFragment] = [\n",
    "    PolicyFragment('AuthZ-Match-All', utils.read_policy_xml(utils.determine_shared_policy_path('pf-authz-match-all.xml')), 'Authorizes if all of the specified roles match the JWT role claims.'),\n",
    "    PolicyFragment('AuthZ-Match-Any', utils.read_policy_xml(utils.determine_shared_policy_path('pf-authz-match-any.xml')), 'Authorizes if any of the specified roles match the JWT role claims.'),\n",
    "    PolicyFragment('Http-Response-200', utils.read_policy_xml(utils.determine_shared_policy_path('pf-http-response-200.xml')), 'Returns a 200 OK response for the current HTTP method.'),\n",
    "    PolicyFragment('Remove-Request-Headers', utils.read_policy_xml(utils.determine_shared_policy_path('pf-remove-request-headers.xml')), 'Removes request headers from the incoming request.')\n",
    "]\n",
    "\n",
    "# 4) Define the APIs and their operations and policies\n",
    "\n",
    "# Policies\n",
    "hello_world_policy_xml = utils.read_policy_xml(HELLO_WORLD_XML_POLICY_PATH)\n",
    "\n",
    "# Hello World (Root)\n",
    "api_hwroot_get = GET_APIOperation('This is a GET for API 1', hello_world_policy_xml)\n",
    "api_hwroot = API('hello-world', 'Hello World', '', 'This is the root API for Hello World', operations = [api_hwroot_get])\n",
    "\n",
    "# APIs Array\n",
    "apis: List[API] = [api_hwroot]\n",
    "\n",
    "utils.print_ok('Notebook initialized')"
   ]
  },
  {
   "cell_type": "markdown",
   "metadata": {},
   "source": [
    "### 🚀 2. Create deployment using Bicep\n",
    "\n",
    "Creates the bicep deployment into the previously-specified resource group. A bicep parameters file will be created prior to execution."
   ]
  },
  {
   "cell_type": "code",
   "execution_count": 18,
   "metadata": {},
   "outputs": [
    {
     "name": "stdout",
     "output_type": "stream",
     "text": [
      "⚙️ \u001b[1;34maz group show --name apim-infra-apim-workspaces-1\u001b[0m \n",
      "📝 Updated the policy XML in the bicep parameters file 'params.json'\n",
      "⚙️ \u001b[1;34maz deployment group create --name apim-workspaces --resource-group apim-infra-apim-workspaces-1 --template-file \"c:\\Users\\robertlacher\\source\\Repos\\Apim-Samples\\infrastructure\\apim-workspaces\\main.bicep\" --parameters \"c:\\Users\\robertlacher\\source\\Repos\\Apim-Samples\\infrastructure\\apim-workspaces\\params.json\" --query \"properties.outputs\"\u001b[0m \n",
      "⛔ \u001b[1;31mCommand failed with error: WARNING: A new Bicep release is available: v0.36.1. Upgrade now by running \"az bicep upgrade\".\n",
      "ERROR: {\"status\":\"Failed\",\"error\":{\"code\":\"DeploymentFailed\",\"target\":\"/subscriptions/3a2450c5-be2a-4171-bb9c-9e6c275104a2/resourceGroups/apim-infra-apim-workspaces-1/providers/Microsoft.Resources/deployments/apim-workspaces\",\"message\":\"At least one resource deployment operation failed. Please list deployment operations for details. Please see https://aka.ms/arm-deployment-operations for usage details.\",\"details\":[{\"code\":\"ResourceDeploymentFailure\",\"target\":\"/subscriptions/3a2450c5-be2a-4171-bb9c-9e6c275104a2/resourceGroups/apim-infra-apim-workspaces-1/providers/Microsoft.Resources/deployments/gatewayModule\",\"message\":\"The resource write operation failed to complete successfully, because it reached terminal provisioning state 'Failed'.\",\"details\":[{\"code\":\"DeploymentFailed\",\"target\":\"/subscriptions/3a2450c5-be2a-4171-bb9c-9e6c275104a2/resourceGroups/apim-infra-apim-workspaces-1/providers/Microsoft.Resources/deployments/gatewayModule\",\"message\":\"At least one resource deployment operation failed. Please list deployment operations for details. Please see https://aka.ms/arm-deployment-operations for usage details.\",\"details\":[{\"code\":\"InvalidConfigConnectionSourceId\",\"message\":\"Invalid sourceId /subscriptions/3a2450c5-be2a-4171-bb9c-9e6c275104a2/resourceGroups/apim-infra-apim-workspaces-1/providers/Microsoft.ApiManagement/service/apim-xysk7zo6uu33w/gateways/apim-xysk7zo6uu33w-gateway. Expected '/subscriptions/<subscriptionId>/resourceGroups/<resourceGroupName>/providers/Microsoft.ApiManagement/service/<serviceName>/workspaces/<workspaceName>'\"}]}]}]}}\n",
      "\u001b[0m ⌚ 15:52:54.843069 [1m:39s]\n"
     ]
    },
    {
     "name": "stderr",
     "output_type": "stream",
     "text": [
      "Traceback (most recent call last):\n",
      "  File \"C:\\Users\\robertlacher\\source\\Repos\\Apim-Samples\\shared\\python\\utils.py\", line 997, in run\n",
      "    output_text = subprocess.check_output(command, shell = True, stderr = subprocess.STDOUT).decode(\"utf-8\")\n",
      "                  ^^^^^^^^^^^^^^^^^^^^^^^^^^^^^^^^^^^^^^^^^^^^^^^^^^^^^^^^^^^^^^^^^^^^^^^^^^\n",
      "  File \"C:\\Python312\\Lib\\subprocess.py\", line 466, in check_output\n",
      "    return run(*popenargs, stdout=PIPE, timeout=timeout, check=True,\n",
      "           ^^^^^^^^^^^^^^^^^^^^^^^^^^^^^^^^^^^^^^^^^^^^^^^^^^^^^^^^^\n",
      "  File \"C:\\Python312\\Lib\\subprocess.py\", line 571, in run\n",
      "    raise CalledProcessError(retcode, process.args,\n",
      "subprocess.CalledProcessError: Command 'az deployment group create --name apim-workspaces --resource-group apim-infra-apim-workspaces-1 --template-file \"c:\\Users\\robertlacher\\source\\Repos\\Apim-Samples\\infrastructure\\apim-workspaces\\main.bicep\" --parameters \"c:\\Users\\robertlacher\\source\\Repos\\Apim-Samples\\infrastructure\\apim-workspaces\\params.json\" --query \"properties.outputs\"' returned non-zero exit status 1.\n"
     ]
    },
    {
     "ename": "SystemExit",
     "evalue": "Deployment failed",
     "output_type": "error",
     "traceback": [
      "An exception has occurred, use %tb to see the full traceback.\n",
      "\u001b[31mSystemExit\u001b[39m\u001b[31m:\u001b[39m Deployment failed\n"
     ]
    }
   ],
   "source": [
    "import utils\n",
    "\n",
    "# 1) Define the Bicep parameters with serialized APIs\n",
    "bicep_parameters = {\n",
    "    'apimSku'               : {'value': apim_sku.value},\n",
    "    'apis'                  : {'value': [api.to_dict() for api in apis]},\n",
    "    'policyFragments'       : {'value': [pf.to_dict() for pf in pfs]},\n",
    "    'revealBackendApiInfo'  : {'value:': reveal_backend}\n",
    "}\n",
    "\n",
    "# 2) Run the deployment\n",
    "output = utils.create_bicep_deployment_group(rg_name, rg_location, deployment, bicep_parameters, rg_tags = rg_tags)\n",
    "\n",
    "# 3) Check the deployment outputs\n",
    "if not output.success:\n",
    "    raise SystemExit('Deployment failed')\n",
    "\n",
    "if output.success and output.json_data:\n",
    "    apim_gateway_url = output.get('apimResourceGatewayURL', 'APIM API Gateway URL')\n",
    "\n",
    "utils.print_ok('Deployment completed')"
   ]
  },
  {
   "cell_type": "markdown",
   "metadata": {},
   "source": [
    "### ✅ 3. Verify API Request Success\n",
    "\n",
    "Assert that the deployment was successful by making simple calls to APIM. "
   ]
  },
  {
   "cell_type": "code",
   "execution_count": null,
   "metadata": {},
   "outputs": [],
   "source": [
    "import utils\n",
    "from apimrequests import ApimRequests\n",
    "from apimtesting import ApimTesting\n",
    "\n",
    "reqs = ApimRequests(apim_gateway_url)\n",
    "tests = ApimTesting(\"Simple APIM Tests\", deployment, deployment)\n",
    "\n",
    "output = reqs.singleGet('/', msg = 'Calling Hello World (Root) API')\n",
    "tests.verify(output, 'Hello World from API Management!')\n",
    "\n",
    "tests.print_summary()\n",
    "\n",
    "utils.print_ok('All done!')"
   ]
  },
  {
   "cell_type": "markdown",
   "metadata": {},
   "source": [
    "### 🗑️ Clean up resources\n",
    "\n",
    "When you're finished experimenting, it's advisable to remove all associated resources from Azure to avoid unnecessary cost.\n",
    "Use the [clean-up notebook](clean-up.ipynb) for that."
   ]
  }
 ],
 "metadata": {
  "kernelspec": {
   "display_name": ".venv",
   "language": "python",
   "name": "python3"
  },
  "language_info": {
   "codemirror_mode": {
    "name": "ipython",
    "version": 3
   },
   "file_extension": ".py",
   "mimetype": "text/x-python",
   "name": "python",
   "nbconvert_exporter": "python",
   "pygments_lexer": "ipython3",
   "version": "3.12.10"
  }
 },
 "nbformat": 4,
 "nbformat_minor": 2
}
