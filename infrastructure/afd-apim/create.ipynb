{
 "cells": [
  {
   "cell_type": "markdown",
   "metadata": {},
   "source": [
    "# Infrastructure: Azure Front Door to API Management via Private Link\n",
    "\n",
    "Sets up the infrastructure for an Azure Front Door Premium instance to connect to API Management via a private link. API Management is not accessible publicly at all and can only be reached via the private link.\n",
    "\n",
    "⌚ **Expected *Run All* runtime: ~13 minutes**"
   ]
  },
  {
   "cell_type": "markdown",
   "metadata": {},
   "source": [
    "### Initialize notebook variables\n",
    "\n",
    "Configures everything that's needed for deployment. \n",
    "\n",
    "❗️ **Modify entries under _1) User-defined parameters_**."
   ]
  },
  {
   "cell_type": "code",
   "execution_count": null,
   "metadata": {},
   "outputs": [],
   "source": [
    "import utils\n",
    "from apimtypes import *\n",
    "\n",
    "# 1) User-defined parameters (change these as needed)\n",
    "rg_location = 'eastus2'\n",
    "index       = 1\n",
    "apim_sku    = APIM_SKU.STANDARDV2\n",
    "deployment  = INFRASTRUCTURE.AFD_APIM_PE\n",
    "use_ACA     = True\n",
    "\n",
    "# 2) Service-defined parameters (please do not change these unless you know what you're doing)\n",
    "rg_name             = utils.get_infra_rg_name(deployment, index)\n",
    "apim_network_mode   = APIMNetworkMode.EXTERNAL_VNET\n",
    "\n",
    "# 3) Define the APIs and their operations and policies\n",
    "\n",
    "# Policies\n",
    "default_policy_xml      = utils.policy_xml_replacement(DEFAULT_XML_POLICY_PATH)\n",
    "hello_world_policy_xml  = utils.policy_xml_replacement(HELLO_WORLD_XML_POLICY_PATH)\n",
    "\n",
    "# Hello World (Root)\n",
    "api_hwroot_get  = GET_APIOperation('This is a GET for API 1', hello_world_policy_xml)\n",
    "api_hwroot      = API('hello-world', 'Hello World', '', 'This is the root API for Hello World', default_policy_xml, [api_hwroot_get])\n",
    "\n",
    "apis: List[API] = [api_hwroot]\n",
    "\n",
    "# If Container Apps is enabled, create the ACA APIs in APIM\n",
    "if use_ACA:\n",
    "    utils.print_info('ACA APIs will be created.')\n",
    "\n",
    "    aca_backend_1_policy_xml    = utils.policy_xml_replacement(ACA_BACKEND_1_XML_POLICY_PATH)\n",
    "    aca_backend_2_policy_xml    = utils.policy_xml_replacement(ACA_BACKEND_2_XML_POLICY_PATH)\n",
    "    aca_backend_pool_policy_xml = utils.policy_xml_replacement(ACA_BACKEND_POOL_XML_POLICY_PATH)\n",
    "\n",
    "    # Hello World (ACA Backend 1)\n",
    "    api_hwaca_1_get = GET_APIOperation('This is a GET for Hello World on ACA Backend 1', default_policy_xml)\n",
    "    api_hwaca_1 = API('hello-world-aca-1', 'Hello World (ACA 1)', '/aca-1', 'This is the ACA API for Backend 1', aca_backend_1_policy_xml, [api_hwaca_1_get])\n",
    "\n",
    "    # Hello World (ACA Backend 2)\n",
    "    api_hwaca_2_get = GET_APIOperation('This is a GET for Hello World on ACA Backend 2', default_policy_xml)\n",
    "    api_hwaca_2 = API('hello-world-aca-2', 'Hello World (ACA 2)', '/aca-2', 'This is the ACA API for Backend 2', aca_backend_2_policy_xml, [api_hwaca_2_get])\n",
    "\n",
    "    # Hello World (ACA Backend Pool)\n",
    "    api_hwaca_pool_get = GET_APIOperation('This is a GET for Hello World on ACA Backend Pool', default_policy_xml)\n",
    "    api_hwaca_pool = API('hello-world-aca-pool', 'Hello World (ACA Pool)', '/aca-pool', 'This is the ACA API for Backend Pool', aca_backend_pool_policy_xml, [api_hwaca_pool_get])\n",
    "\n",
    "    # Add ACA APIs to the existing apis array\n",
    "    apis += [api_hwaca_1, api_hwaca_2, api_hwaca_pool]\n",
    "\n",
    "utils.print_ok('Notebook initialized')"
   ]
  },
  {
   "cell_type": "markdown",
   "metadata": {},
   "source": [
    "### Create deployment using Bicep\n",
    "\n",
    "Creates the bicep deployment into the previously-specified resource group. A bicep parameters file will be created prior to execution."
   ]
  },
  {
   "cell_type": "code",
   "execution_count": null,
   "metadata": {},
   "outputs": [],
   "source": [
    "import utils\n",
    "from apimtypes import *\n",
    "\n",
    "# 1) Define the Bicep parameters with serialized APIs and networking mode\n",
    "bicep_parameters = {\n",
    "    'apimSku'           : {'value': apim_sku.value},\n",
    "    'apis'              : {'value': [api.to_dict() for api in apis]},\n",
    "    'apimPublicAccess'  : {'value': apim_network_mode in [APIMNetworkMode.PUBLIC, APIMNetworkMode.EXTERNAL_VNET]},\n",
    "    'useACA'            : {'value': use_ACA}\n",
    "}\n",
    "\n",
    "# 2) Run the deployment\n",
    "output = utils.create_bicep_deployment_group(rg_name, rg_location, deployment, bicep_parameters)\n",
    "\n",
    "# 3) Print a deployment summary, if successful; otherwise, exit with an error\n",
    "if not output.success:\n",
    "    raise SystemExit('Deployment failed')\n",
    "\n",
    "if output.success and output.json_data:\n",
    "    apim_service_id     = output.get('apimServiceId', 'APIM Service Id')\n",
    "    apim_gateway_url    = output.get('apimResourceGatewayURL', 'APIM API Gateway URL')\n",
    "    afd_endpoint_url    = output.get('fdeSecureUrl', 'Front Door Endpoint URL')\n",
    "\n",
    "utils.print_ok('Deployment completed')\n"
   ]
  },
  {
   "cell_type": "markdown",
   "metadata": {},
   "source": [
    "### Approve Front Door private link connection to APIM\n",
    "\n",
    "In the deployed Bicep template, Azure Front Door will establish a private link connection to the API Management service. This connection should be approved. Run the following command to approve the connection."
   ]
  },
  {
   "cell_type": "code",
   "execution_count": null,
   "metadata": {},
   "outputs": [],
   "source": [
    "import utils\n",
    "\n",
    "# Get all pending private endpoint connections as JSON\n",
    "output = utils.run(f\"az network private-endpoint-connection list --id {apim_service_id} --query \\\"[?contains(properties.privateLinkServiceConnectionState.status, 'Pending')]\\\" -o json\")\n",
    "\n",
    "# Handle both a single object and a list of objects\n",
    "pending_connections = output.json_data if output.success and output.is_json else []\n",
    "\n",
    "if isinstance(pending_connections, dict):\n",
    "    pending_connections = [pending_connections]\n",
    "\n",
    "total = len(pending_connections)\n",
    "utils.print_info(f\"Found {total} pending private link service connection(s).\")\n",
    "\n",
    "if total > 0:\n",
    "    for i, conn in enumerate(pending_connections, 1):\n",
    "        conn_id = conn.get('id')\n",
    "        conn_name = conn.get('name', '<unknown>')\n",
    "        utils.print_info(f\"{i}/{total}: {conn_name}\", True)\n",
    "\n",
    "        approve_result = utils.run(\n",
    "            f\"az network private-endpoint-connection approve --id {conn_id} --description 'Approved'\",\n",
    "            f\"Private Link Connection approved: {conn_name}\",\n",
    "            f\"Failed to approve Private Link Connection: {conn_name}\"\n",
    "        )\n",
    "\n",
    "    utils.print_ok('Private link approvals completed')\n",
    "else:\n",
    "    utils.print_info('No pending private link service connection was found. There is nothing to approve.')"
   ]
  },
  {
   "cell_type": "markdown",
   "metadata": {},
   "source": [
    "### Verify API Request Success via API Management\n",
    "\n",
    "As we have not yet disabled public access to APIM, this request should succeed with a **200**."
   ]
  },
  {
   "cell_type": "code",
   "execution_count": null,
   "metadata": {},
   "outputs": [],
   "source": [
    "import utils\n",
    "from apimrequests import ApimRequests\n",
    "\n",
    "reqs = ApimRequests(apim_gateway_url)\n",
    "\n",
    "utils.print_message('Calling Hello World (Root) API via API Management Gateway URL. Expect 200 (if run before disabling API Management public network access).')\n",
    "output = reqs.singleGet('/')\n",
    "\n",
    "utils.print_ok('API request via API Management completed')"
   ]
  },
  {
   "cell_type": "markdown",
   "metadata": {},
   "source": [
    "### Disabling API Management public network access\n",
    "\n",
    "The initial `APIM` service deployment above cannot disable public network access. It must be disabled subsequently below."
   ]
  },
  {
   "cell_type": "code",
   "execution_count": null,
   "metadata": {},
   "outputs": [],
   "source": [
    "import utils\n",
    "from apimtypes import *\n",
    "\n",
    "# 1) Update the Bicep parameters to disable public access to APIM (we only want private endpoint ingress)\n",
    "bicep_parameters['apimPublicAccess']['value'] = False\n",
    "\n",
    "# 2) Run the deployment\n",
    "output = utils.create_bicep_deployment_group(rg_name, rg_location, deployment, bicep_parameters)\n",
    "\n",
    "# 3) Print a single, clear deployment summary if successful\n",
    "if not output.success:\n",
    "    raise SystemExit('Deployment failed')\n",
    "    \n",
    "if output.success and output.json_data:\n",
    "    apim_gateway_url = output.get('apimResourceGatewayURL', 'APIM API Gateway URL')\n",
    "    afd_endpoint_url = output.get('fdeSecureUrl', 'Front Door Endpoint URL')\n",
    "\n",
    "utils.print_ok('Deployment completed')\n"
   ]
  },
  {
   "cell_type": "markdown",
   "metadata": {},
   "source": [
    "### Verify API Request Success via Azure Front Door & Failure with API Management\n",
    "\n",
    "At this time only requests through Front Door should be successful and return a **200**. Requests to APIM that worked previously should result in a **403**."
   ]
  },
  {
   "cell_type": "code",
   "execution_count": null,
   "metadata": {},
   "outputs": [],
   "source": [
    "import utils\n",
    "from apimrequests import ApimRequests\n",
    "\n",
    "reqsApim = ApimRequests(apim_gateway_url)\n",
    "reqsAfd  = ApimRequests(afd_endpoint_url)\n",
    "\n",
    "# 1) Unsuccessful call to APIM Gateway URL (should fail with 403 Forbidden)\n",
    "reqsApim.singleGet('/', msg = '1) Calling Hello World (Root) API via API Management Gateway URL. Expect 403 as APIM public access is disabled now.')\n",
    "\n",
    "# 2) Successful call to Front Door (200)\n",
    "reqsAfd.singleGet('/', msg = '2) Calling Hello World (Root) API via Azure Front Door. Expect 200.')\n",
    "\n",
    "# 3) Successful calls to Front Door -> APIM -> ACA (200)\n",
    "if use_ACA:\n",
    "    reqsAfd.singleGet('/aca-1', msg = '3) Calling Hello World (ACA 1) API via Azure Front Door. Expect 200.')\n",
    "    reqsAfd.singleGet('/aca-2', msg = '4) Calling Hello World (ACA 2) API via Azure Front Door. Expect 200.')\n",
    "    reqsAfd.singleGet('/aca-pool', msg = '5) Calling Hello World (ACA Pool) API via Azure Front Door. Expect 200.')\n",
    "else:\n",
    "    utils.print_message('ACA APIs were not created. Skipping ACA API calls.', blank_above = True)\n",
    "\n",
    "utils.print_ok('All done!')"
   ]
  },
  {
   "cell_type": "markdown",
   "metadata": {},
   "source": [
    "<a id='clean'></a>\n",
    "### Clean up resources\n",
    "\n",
    "When you're finished experimenting, it's advisable to remove all associated resources from Azure to avoid unnecessary cost.\n",
    "Use the [clean-up notebook](clean-up.ipynb) for that."
   ]
  }
 ],
 "metadata": {
  "kernelspec": {
   "display_name": ".venv",
   "language": "python",
   "name": "python3"
  },
  "language_info": {
   "codemirror_mode": {
    "name": "ipython",
    "version": 3
   },
   "file_extension": ".py",
   "mimetype": "text/x-python",
   "name": "python",
   "nbconvert_exporter": "python",
   "pygments_lexer": "ipython3",
   "version": "3.12.10"
  }
 },
 "nbformat": 4,
 "nbformat_minor": 2
}
