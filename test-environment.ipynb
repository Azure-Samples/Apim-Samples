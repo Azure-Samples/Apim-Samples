{
 "cells": [
  {
   "cell_type": "markdown",
   "id": "953c2510",
   "metadata": {},
   "source": [
    "# APIM Samples - Environment Test Notebook\n",
    "\n",
    "This notebook verifies that the dev container environment is properly configured and all packages are available."
   ]
  },
  {
   "cell_type": "code",
   "execution_count": null,
   "id": "fc0c43e8",
   "metadata": {},
   "outputs": [],
   "source": [
    "# Test 1: Basic Python environment\n",
    "import sys\n",
    "import os\n",
    "\n",
    "print(f\"Python version: {sys.version}\")\n",
    "print(f\"Python executable: {sys.executable}\")\n",
    "print(f\"Virtual environment: {os.environ.get('VIRTUAL_ENV', 'Not detected')}\")\n",
    "print(f\"Current working directory: {os.getcwd()}\")"
   ]
  },
  {
   "cell_type": "code",
   "execution_count": null,
   "id": "181e659d",
   "metadata": {},
   "outputs": [],
   "source": [
    "# Test 2: Core package imports\n",
    "try:\n",
    "    import requests\n",
    "    import pandas as pd\n",
    "    import matplotlib.pyplot as plt\n",
    "    import jwt\n",
    "    import azure.identity\n",
    "    import azure.storage.blob\n",
    "    \n",
    "    print(\"✅ All core packages imported successfully!\")\n",
    "    print(f\"   - requests: {requests.__version__}\")\n",
    "    print(f\"   - pandas: {pd.__version__}\")\n",
    "    print(f\"   - matplotlib: {plt.matplotlib.__version__}\")\n",
    "    print(f\"   - PyJWT: {jwt.__version__}\")\n",
    "    \n",
    "except ImportError as e:\n",
    "    print(f\"❌ Import error: {e}\")"
   ]
  },
  {
   "cell_type": "code",
   "execution_count": null,
   "id": "9afd8a69",
   "metadata": {},
   "outputs": [],
   "source": [
    "# Test 3: APIM Samples specific imports\n",
    "try:\n",
    "    # Test importing shared modules\n",
    "    sys.path.append('/workspaces/Apim-Samples/shared/python')\n",
    "    \n",
    "    import apimrequests\n",
    "    import apimtypes\n",
    "    import authfactory\n",
    "    import utils\n",
    "    \n",
    "    print(\"✅ APIM Samples modules imported successfully!\")\n",
    "    print(\"   - apimrequests: Available\")\n",
    "    print(\"   - apimtypes: Available\")\n",
    "    print(\"   - authfactory: Available\")\n",
    "    print(\"   - utils: Available\")\n",
    "    \n",
    "except ImportError as e:\n",
    "    print(f\"⚠️  APIM module import issue: {e}\")\n",
    "    print(\"This might be expected if you haven't set up the Python path yet.\")"
   ]
  },
  {
   "cell_type": "code",
   "execution_count": null,
   "id": "881ac3d0",
   "metadata": {},
   "outputs": [],
   "source": [
    "# Test 4: Environment variables\n",
    "import os\n",
    "\n",
    "print(\"Environment variables:\")\n",
    "python_path = os.environ.get('PYTHONPATH', 'Not set')\n",
    "project_root = os.environ.get('PROJECT_ROOT', 'Not set')\n",
    "\n",
    "print(f\"   PYTHONPATH: {python_path}\")\n",
    "print(f\"   PROJECT_ROOT: {project_root}\")\n",
    "\n",
    "# Check if .env file exists\n",
    "env_file = '/workspaces/Apim-Samples/.env'\n",
    "if os.path.exists(env_file):\n",
    "    print(f\"   ✅ .env file exists at {env_file}\")\n",
    "else:\n",
    "    print(f\"   ❌ .env file not found at {env_file}\")"
   ]
  },
  {
   "cell_type": "code",
   "execution_count": null,
   "id": "94bf42be",
   "metadata": {},
   "outputs": [],
   "source": [
    "# Test 5: Simple data visualization\n",
    "import matplotlib.pyplot as plt\n",
    "import pandas as pd\n",
    "import numpy as np\n",
    "\n",
    "# Create sample data\n",
    "data = {\n",
    "    'Component': ['Virtual Env', 'Packages', '.env File', 'Azure CLI', 'VS Code'],\n",
    "    'Status': [1, 1, 1, 1, 1]  # 1 = working\n",
    "}\n",
    "\n",
    "df = pd.DataFrame(data)\n",
    "\n",
    "# Create a simple bar chart\n",
    "plt.figure(figsize=(10, 6))\n",
    "bars = plt.bar(df['Component'], df['Status'], color=['green' if x == 1 else 'red' for x in df['Status']])\n",
    "plt.title('APIM Samples Dev Container - Component Status')\n",
    "plt.ylabel('Status (1 = Working)')\n",
    "plt.ylim(0, 1.2)\n",
    "\n",
    "# Add value labels on bars\n",
    "for bar in bars:\n",
    "    height = bar.get_height()\n",
    "    plt.text(bar.get_x() + bar.get_width()/2., height + 0.05,\n",
    "             '✅' if height == 1 else '❌',\n",
    "             ha='center', va='bottom', fontsize=14)\n",
    "\n",
    "plt.xticks(rotation=45)\n",
    "plt.tight_layout()\n",
    "plt.show()\n",
    "\n",
    "print(\"🎉 If you can see this chart, your Jupyter environment is fully operational!\")"
   ]
  }
 ],
 "metadata": {
  "language_info": {
   "name": "python"
  }
 },
 "nbformat": 4,
 "nbformat_minor": 5
}
