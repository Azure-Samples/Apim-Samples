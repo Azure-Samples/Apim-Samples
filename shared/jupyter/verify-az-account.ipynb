{
 "cells": [
  {
   "cell_type": "markdown",
   "id": "e6c2c317",
   "metadata": {},
   "source": [
    "### Verify the Azure CLI and the connected Azure subscription\n",
    "\n",
    "The following commands ensure that you have the latest version of the Azure CLI and that the Azure CLI is connected to your Azure subscription.\n",
    "\n",
    "**🔐 Important Authentication Steps:**\n",
    "\n",
    "Before running the verification below, ensure you're authenticated to the correct Azure tenant and subscription:\n",
    "\n",
    "1. **Login to your specific tenant:**\n",
    "   ```bash\n",
    "   az login --tenant <your-tenant-id-or-domain>\n",
    "   ```\n",
    "\n",
    "2. **Set your target subscription:**\n",
    "   ```bash\n",
    "   az account set --subscription <your-subscription-id-or-name>\n",
    "   ```\n",
    "\n",
    "3. **Verify your authentication context:**\n",
    "   ```bash\n",
    "   az account show\n",
    "   ```\n",
    "\n",
    "**💡 Tips:**\n",
    "- Replace `<your-tenant-id-or-domain>` with your Azure AD tenant ID (GUID) or domain name (e.g., `contoso.onmicrosoft.com`)\n",
    "- Replace `<your-subscription-id-or-name>` with your subscription ID (GUID) or subscription name\n",
    "- If you have access to multiple tenants/subscriptions, always verify you're in the correct context before proceeding"
   ]
  },
  {
   "cell_type": "code",
   "execution_count": null,
   "id": "475c5176",
   "metadata": {},
   "outputs": [],
   "source": [
    "import utils\n",
    "\n",
    "account = utils.get_account_info()"
   ]
  }
 ],
 "metadata": {
  "kernelspec": {
   "display_name": ".venv",
   "language": "python",
   "name": "python3"
  },
  "language_info": {
   "codemirror_mode": {
    "name": "ipython",
    "version": 3
   },
   "file_extension": ".py",
   "mimetype": "text/x-python",
   "name": "python",
   "nbconvert_exporter": "python",
   "pygments_lexer": "ipython3",
   "version": "3.12.10"
  }
 },
 "nbformat": 4,
 "nbformat_minor": 5
}
