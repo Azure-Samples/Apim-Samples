{
 "cells": [
  {
   "cell_type": "markdown",
   "id": "d5cd329c",
   "metadata": {},
   "source": [
    "# 🧪 Kernel Selection Test\n",
    "\n",
    "This notebook tests that only the APIM Samples Python 3.12 kernel is visible in the kernel picker.\n",
    "\n",
    "**Expected behavior:**\n",
    "- Only one kernel should be visible in the kernel picker (top right)\n",
    "- It should be automatically selected when opening this notebook\n",
    "- The kernel should be named \"APIM Samples Python 3.12\""
   ]
  },
  {
   "cell_type": "code",
   "execution_count": null,
   "id": "18f4e3d6",
   "metadata": {},
   "outputs": [],
   "source": [
    "# Test that we're using the correct Python environment\n",
    "import sys\n",
    "import os\n",
    "\n",
    "print(\"🔍 Current Python Environment:\")\n",
    "print(f\"   Python executable: {sys.executable}\")\n",
    "print(f\"   Python version: {sys.version}\")\n",
    "print(f\"   Virtual environment: {os.environ.get('VIRTUAL_ENV', 'Not detected')}\")\n",
    "\n",
    "# Check if we're in the expected venv\n",
    "if '/workspaces/Apim-Samples/.venv' in sys.executable:\n",
    "    print(\"\\n✅ SUCCESS: Using the correct APIM Samples virtual environment!\")\n",
    "else:\n",
    "    print(\"\\n❌ WARNING: Not using the expected virtual environment\")\n",
    "    print(\"   Expected path to contain: /workspaces/Apim-Samples/.venv\")"
   ]
  },
  {
   "cell_type": "code",
   "execution_count": null,
   "id": "3ce03af2",
   "metadata": {},
   "outputs": [],
   "source": [
    "# Test that required packages are available\n",
    "packages_to_test = [\n",
    "    'requests',\n",
    "    'pandas', \n",
    "    'matplotlib',\n",
    "    'jwt',\n",
    "    'azure.identity',\n",
    "    'azure.storage.blob'\n",
    "]\n",
    "\n",
    "print(\"📦 Testing package imports:\")\n",
    "failed_imports = []\n",
    "\n",
    "for package in packages_to_test:\n",
    "    try:\n",
    "        __import__(package)\n",
    "        print(f\"   ✅ {package}\")\n",
    "    except ImportError as e:\n",
    "        print(f\"   ❌ {package} - {e}\")\n",
    "        failed_imports.append(package)\n",
    "\n",
    "if not failed_imports:\n",
    "    print(\"\\n🎉 All packages imported successfully!\")\n",
    "else:\n",
    "    print(f\"\\n⚠️  Failed to import: {', '.join(failed_imports)}\")"
   ]
  },
  {
   "cell_type": "code",
   "execution_count": null,
   "id": "fee964fc",
   "metadata": {},
   "outputs": [],
   "source": [
    "# Quick visualization test\n",
    "import matplotlib.pyplot as plt\n",
    "import numpy as np\n",
    "\n",
    "# Create a simple test plot\n",
    "x = np.linspace(0, 2*np.pi, 100)\n",
    "y = np.sin(x)\n",
    "\n",
    "plt.figure(figsize=(8, 4))\n",
    "plt.plot(x, y, 'b-', linewidth=2, label='sin(x)')\n",
    "plt.title('🔧 Kernel Test - Matplotlib Visualization')\n",
    "plt.xlabel('x')\n",
    "plt.ylabel('sin(x)')\n",
    "plt.grid(True, alpha=0.3)\n",
    "plt.legend()\n",
    "plt.tight_layout()\n",
    "plt.show()\n",
    "\n",
    "print(\"✅ If you can see the plot above, your Jupyter environment is working correctly!\")"
   ]
  },
  {
   "cell_type": "markdown",
   "id": "5690412a",
   "metadata": {},
   "source": [
    "## 📋 Manual Verification Checklist\n",
    "\n",
    "Please verify the following:\n",
    "\n",
    "1. **Kernel Picker**: Click on the kernel selector in the top right of this notebook\n",
    "   - [ ] Only one kernel should be visible: \"APIM Samples Python 3.12\"\n",
    "   - [ ] No system Python, conda, or other kernels should appear\n",
    "\n",
    "2. **Automatic Selection**: \n",
    "   - [ ] This kernel was automatically selected when opening the notebook\n",
    "   - [ ] No manual kernel selection was required\n",
    "\n",
    "3. **Environment Verification**:\n",
    "   - [ ] Python executable path contains `/workspaces/Apim-Samples/.venv`\n",
    "   - [ ] All packages imported successfully\n",
    "   - [ ] Matplotlib plot displays correctly\n",
    "\n",
    "If all checkboxes can be ticked ✅, then the kernel filtering is working perfectly!"
   ]
  }
 ],
 "metadata": {
  "language_info": {
   "name": "python"
  }
 },
 "nbformat": 4,
 "nbformat_minor": 5
}
