{
 "cells": [
  {
   "cell_type": "markdown",
   "metadata": {},
   "source": [
    "### 🛠️ 1. Initialize notebook variables\n",
    "\n",
    "Configures everything that's needed for deployment. \n",
    "\n",
    "👉 **Modify entries under _1) User-defined parameters_ and _3) Define the APIs and their operations and policies_**."
   ]
  },
  {
   "cell_type": "code",
   "execution_count": 1,
   "metadata": {},
   "outputs": [
    {
     "name": "stdout",
     "output_type": "stream",
     "text": [
      "👉🏽 \u001b[1;34mResource group name      : apim-infra-simple-apim-2\u001b[0m \n",
      "👉🏽 \u001b[1;34mJWT key value            : FGUqleuzKPziT8gGSvN7zxqpSZN5AiLHwFdnLP78sbal\u001b[0m \n",
      "👉🏽 \u001b[1;34mJWT key value (base64)   : RkdVcWxldXpLUHppVDhnR1N2Tjd6eHFwU1pONUFpTEh3RmRuTFA3OHNiYWw=\u001b[0m \n",
      "📄 Reading policy XML from  : C:\\Dev\\Azure-Samples\\Apim-Samples\\samples\\oauth-3rd-party\\artist_get.xml\n",
      "📄 Reading policy XML from  : C:\\Dev\\Azure-Samples\\Apim-Samples\\samples\\oauth-3rd-party\\spotify_api.xml\n",
      "\n",
      "✅ \u001b[1;32mNotebook initialized\u001b[0m ⌚ 00:33:06.402214 \n"
     ]
    }
   ],
   "source": [
    "import utils\n",
    "import time\n",
    "from apimtypes import *\n",
    "\n",
    "# 1) User-defined parameters (change these as needed)\n",
    "rg_location = 'eastus2'\n",
    "index       = 2\n",
    "deployment  = INFRASTRUCTURE.SIMPLE_APIM\n",
    "tags        = ['oauth-3rd-party', 'jwt', 'credential-manager', 'policy-fragment']       # ENTER DESCRIPTIVE TAG(S)\n",
    "api_prefix  = 'oauth-3rd-party-'               # OPTIONAL: ENTER A PREFIX FOR THE APIS TO REDUCE COLLISION POTENTIAL WITH OTHER SAMPLES\n",
    "\n",
    "# 2) Service-defined parameters (please do not change these)\n",
    "rg_name = utils.get_infra_rg_name(deployment, index)\n",
    "supported_infrastructures = [INFRASTRUCTURE.SIMPLE_APIM, INFRASTRUCTURE.AFD_APIM_PE, INFRASTRUCTURE.APIM_ACA]        # ENTER SUPPORTED INFRASTRUCTURES HERE, e.g., [INFRASTRUCTURE.AFD_APIM_PE, INFRASTRUCTURE.AFD_APIM_FE]\n",
    "utils.validate_infrastructure(deployment, supported_infrastructures)\n",
    "sample_folder = \"oauth-3rd-party\"\n",
    "\n",
    "# Set up the signing key for the JWT policy\n",
    "jwt_key_name = f'JwtSigningKey{int(time.time())}'\n",
    "jwt_key_value, jwt_key_value_bytes_b64 = utils.generate_signing_key()\n",
    "utils.print_val('JWT key value', jwt_key_value)                         # this value is used to create the signed JWT token for requests to APIM\n",
    "utils.print_val('JWT key value (base64)', jwt_key_value_bytes_b64)      # this value is used in the APIM validate-jwt policy's issuer-signing-key attribute  \n",
    "\n",
    "# 3) Set up the named values\n",
    "nvs: List[NamedValue] = [\n",
    "    NamedValue(jwt_key_name, jwt_key_value_bytes_b64, True),\n",
    "    NamedValue('MarketingMemberRoleId', Role.HR_MEMBER)\n",
    "]\n",
    "\n",
    "# # 4) Set up the policy fragments\n",
    "# pf_authx_hr_member_xml = utils.read_policy_xml('pf-authx-hr-member.xml', {\n",
    "#     'jwt_signing_key': jwt_key_name,\n",
    "#     'hr_member_role_id': 'HRMemberRoleId'\n",
    "# }, sample_folder)\n",
    "\n",
    "# pfs: List[PolicyFragment] = [\n",
    "#     PolicyFragment('AuthX-HR-Member', pf_authx_hr_member_xml, 'Authenticates and authorizes HR members.')\n",
    "# ]\n",
    "\n",
    "# 6) Define the APIs and their operations and policies\n",
    "\n",
    "# Policies\n",
    "pol_artist_get_xml  = utils.read_policy_xml('artist_get.xml', sample_name = sample_folder)\n",
    "pol_spotify_api_xml = utils.read_policy_xml('spotify_api.xml', sample_name = sample_folder)\n",
    "\n",
    "# Spotify\n",
    "spotify_artist_hremployees_get = GET_APIOperation('Gets the Artists by ID', pol_artist_get_xml)\n",
    "\n",
    "# APIs Array\n",
    "apis: List[API] = [\n",
    "    API(f'{api_prefix}spotify', 'Spotify API', f'/{api_prefix}spotify', 'This is the API for interactions with the Spotify REST API', policyXml = pol_spotify_api_xml, operations = [spotify_artist_hremployees_get], tags = tags),\n",
    "]\n",
    "\n",
    "utils.print_ok('Notebook initialized')"
   ]
  },
  {
   "cell_type": "markdown",
   "metadata": {},
   "source": [
    "### 🚀 2. Create deployment using Bicep\n",
    "\n",
    "Creates the bicep deployment into the previously-specified resource group. A bicep parameters file will be created prior to execution."
   ]
  },
  {
   "cell_type": "code",
   "execution_count": null,
   "metadata": {},
   "outputs": [
    {
     "name": "stdout",
     "output_type": "stream",
     "text": [
      "⚙️ \u001b[1;34maz group show --name apim-infra-simple-apim-2\u001b[0m \n",
      "📁 Changed working directory to: c:\\Dev\\Azure-Samples\\Apim-Samples\\samples\\authX-pro\n",
      "⚙️ \u001b[1;34maz group show --name apim-infra-simple-apim-2\u001b[0m \n",
      "📝 Updated the policy XML in the bicep parameters file 'params.json'\n",
      "⚙️ \u001b[1;34maz deployment group create --name authX-pro --resource-group apim-infra-simple-apim-2 --template-file \"c:\\Dev\\Azure-Samples\\Apim-Samples\\samples\\authX-pro\\main.bicep\" --parameters \"c:\\Dev\\Azure-Samples\\Apim-Samples\\samples\\authX-pro\\params.json\" --query \"properties.outputs\"\u001b[0m \n"
     ]
    }
   ],
   "source": [
    "import utils\n",
    "\n",
    "# 1) Define the Bicep parameters with serialized APIs\n",
    "bicep_parameters = {\n",
    "    'apis': {'value': [api.to_dict() for api in apis]},\n",
    "    'namedValues': {'value': [nv.to_dict() for nv in nvs]}\n",
    "}\n",
    "\n",
    "# 2) Infrastructure must be in place before samples can be layered on top\n",
    "if not utils.does_resource_group_exist(rg_name):\n",
    "    utils.print_error(f'The specified infrastructure resource group and its resources must exist first. Please check that the user-defined parameters above are correctly referencing an existing infrastructure. If it does not yet exist, run the desired infrastructure in the /infra/ folder first.')\n",
    "    raise SystemExit(1)\n",
    "\n",
    "# 3) Run the deployment using the utility function that handles working directory management\n",
    "output = utils.create_bicep_deployment_group_for_sample('authX-pro', rg_name, rg_location, bicep_parameters)\n",
    "\n",
    "# 4) Print a deployment summary, if successful; otherwise, exit with an error\n",
    "if not output.success:\n",
    "    raise SystemExit('Deployment failed')\n",
    "\n",
    "if output.success and output.json_data:\n",
    "    apim_gateway_url = output.get('apimResourceGatewayURL', 'APIM API Gateway URL')\n",
    "\n",
    "utils.print_ok('Deployment completed')"
   ]
  },
  {
   "cell_type": "markdown",
   "metadata": {},
   "source": [
    "### ✅ 3. Verify API Request Success\n",
    "\n",
    "Assert that the deployment was successful by making simple calls to APIM. \n",
    "\n",
    "❗️ If the infrastructure shields APIM and requires a different ingress (e.g. Azure Front Door), the request to the APIM gateway URl will fail by design. Obtain the Front Door endpoint hostname and try that instead."
   ]
  },
  {
   "cell_type": "code",
   "execution_count": null,
   "metadata": {},
   "outputs": [],
   "source": [
    "# TBD"
   ]
  }
 ],
 "metadata": {
  "kernelspec": {
   "display_name": "APIM Samples Python 3.12",
   "language": "python",
   "name": "apim-samples"
  },
  "language_info": {
   "codemirror_mode": {
    "name": "ipython",
    "version": 3
   },
   "file_extension": ".py",
   "mimetype": "text/x-python",
   "name": "python",
   "nbconvert_exporter": "python",
   "pygments_lexer": "ipython3",
   "version": "3.12.10"
  }
 },
 "nbformat": 4,
 "nbformat_minor": 2
}
