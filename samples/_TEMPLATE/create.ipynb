{
 "cells": [
  {
   "cell_type": "markdown",
   "metadata": {},
   "source": [
    "### 🛠️ Initialize Notebook Variables\n",
    "\n",
    "**Only modify entries under _USER CONFIGURATION_.**"
   ]
  },
  {
   "cell_type": "code",
   "execution_count": null,
   "metadata": {},
   "outputs": [],
   "source": [
    "import utils\n",
    "from apimtypes import *\n",
    "\n",
    "# ------------------------------\n",
    "#    USER CONFIGURATION\n",
    "# ------------------------------\n",
    "\n",
    "rg_location = 'eastus2'\n",
    "index       = 1\n",
    "apim_sku    = APIM_SKU.BASICV2              # Options: 'BASICV2', 'STANDARDV2', 'PREMIUMV2'\n",
    "deployment  = INFRASTRUCTURE.AFD_APIM_PE\n",
    "api_prefix  = 'template-'                   # ENTER A PREFIX FOR THE APIS TO REDUCE COLLISION POTENTIAL WITH OTHER SAMPLES\n",
    "tags        = ['tag1', 'tag2']              # ENTER DESCRIPTIVE TAGS\n",
    "\n",
    "\n",
    "\n",
    "# ------------------------------\n",
    "#    SYSTEM CONFIGURATION\n",
    "# ------------------------------\n",
    "\n",
    "sample_folder    = '_TEMPLATE'\n",
    "rg_name          = utils.get_infra_rg_name(deployment, index)\n",
    "supported_infras = [INFRASTRUCTURE.AFD_APIM_PE, INFRASTRUCTURE.APIM_ACA, INFRASTRUCTURE.SIMPLE_APIM]\n",
    "nb_helper        = utils.NotebookHelper(sample_folder, rg_name, rg_location, deployment, supported_infras, index = index, apim_sku = apim_sku)\n",
    "\n",
    "# Define the APIs and their operations and policies\n",
    "\n",
    "# API 1\n",
    "# api1_path = f'{api_prefix}api1'\n",
    "# api1_get  = GET_APIOperation('This is a GET for API 1')\n",
    "# api1_post = POST_APIOperation('This is a POST for API 1')\n",
    "# api1      = API(api1_path, 'API 1', api1_path, 'This is API 1', operations = [api1_get, api1_post], tags = tags)\n",
    "\n",
    "# API n: <name>\n",
    "# ...\n",
    "\n",
    "# APIs Array\n",
    "# apis: List[API] = [api1, apin]\n",
    "apis: List[API] = []\n",
    "\n",
    "utils.print_ok('Notebook initialized')"
   ]
  },
  {
   "cell_type": "markdown",
   "metadata": {},
   "source": [
    "### 🚀 Deploy Infrastructure and APIs\n",
    "\n",
    "Creates the bicep deployment into the previously-specified resource group. A bicep parameters, `params.json`, file will be created prior to execution."
   ]
  },
  {
   "cell_type": "code",
   "execution_count": null,
   "metadata": {},
   "outputs": [],
   "source": [
    "# Build the bicep parameters\n",
    "bicep_parameters = {\n",
    "    'apis': {'value': [api.to_dict() for api in apis]}\n",
    "}\n",
    "\n",
    "# Deploy the sample\n",
    "output = nb_helper.deploy_sample(bicep_parameters)\n",
    "\n",
    "if output.success:\n",
    "    # Extract deployment outputs for testing\n",
    "    afd_endpoint_url = output.get('fdeSecureUrl', 'Front Door Endpoint URL')    # may be deleted if Front Door is not part of a supported infrastructure\n",
    "    apim_name        = output.get('apimServiceName', 'APIM Service Name')\n",
    "    apim_gateway_url = output.get('apimResourceGatewayURL', 'APIM API Gateway URL')\n",
    "    apim_apis        = output.getJson('apiOutputs', 'APIs')\n",
    "\n",
    "    utils.print_ok('Deployment completed successfully')\n",
    "else:\n",
    "    utils.print_error(\"Deployment failed!\")\n",
    "    raise SystemExit(1)"
   ]
  },
  {
   "cell_type": "markdown",
   "metadata": {},
   "source": [
    "### ✅ Verify API Request Success\n",
    "\n",
    "Assert that the deployment was successful by making simple calls to APIM. \n",
    "\n",
    "❗️ If the infrastructure shields APIM and requires a different ingress (e.g. Azure Front Door), the request to the APIM gateway URl will fail by design. Obtain the Front Door endpoint hostname and try that instead."
   ]
  },
  {
   "cell_type": "code",
   "execution_count": null,
   "metadata": {},
   "outputs": [],
   "source": [
    "from apimrequests import ApimRequests\n",
    "from apimtesting import ApimTesting\n",
    "\n",
    "# Initialize testing framework\n",
    "tests = ApimTesting(\"Template Sample Tests\", sample_folder, nb_helper.deployment)\n",
    "\n",
    "# Example API testing (uncomment and customize as needed)\n",
    "# api_subscription_key = apim_apis[0]['subscriptionPrimaryKey']\n",
    "\n",
    "# Preflight: Check if the infrastructure architecture deployment uses Azure Front Door. If so, assume that APIM is not directly accessible and use the Front Door URL instead.\n",
    "# endpoint_url = utils.test_url_preflight_check(deployment, rg_name, apim_gateway_url)\n",
    "\n",
    "# reqs = ApimRequests(afd_endpoint_url, api_subscription_key)\n",
    "# output = reqs.singleGet('/', msg = 'Calling API via Azure Front Door. Expect 200.')\n",
    "# tests.verify('expected_value' in output, True)\n",
    "\n",
    "tests.print_summary()\n",
    "\n",
    "utils.print_ok('All done!')"
   ]
  }
 ],
 "metadata": {
  "kernelspec": {
   "display_name": "APIM Samples Python 3.12",
   "language": "python",
   "name": "apim-samples"
  },
  "language_info": {
   "codemirror_mode": {
    "name": "ipython",
    "version": 3
   },
   "file_extension": ".py",
   "mimetype": "text/x-python",
   "name": "python",
   "nbconvert_exporter": "python",
   "pygments_lexer": "ipython3",
   "version": "3.12.10"
  }
 },
 "nbformat": 4,
 "nbformat_minor": 2
}
