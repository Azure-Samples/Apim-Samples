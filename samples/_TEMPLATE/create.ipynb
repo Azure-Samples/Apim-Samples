{
 "cells": [
  {
   "cell_type": "markdown",
   "metadata": {},
   "source": [
    "# Samples: [TEMPLATE NAME]\n",
    "\n",
    "[BRIEF SAMPLE DESCRIPTION]\n",
    "\n",
    "⚙️ **Supported infrastructures**: [Comma-separated names of the supported infrastructures or \"All infrastructures\"]\n",
    "\n",
    "⌚ **Expected *Run All* runtime (excl. infrastructure prerequisite): ~[NOTEBOOK RUNTIME] minute**\n",
    "\n",
    "## Objectives\n",
    "\n",
    "1. [LEARNING / EXPERIMENTATION OBJECTIVE 1]\n",
    "1. [LEARNING / EXPERIMENTATION OBJECTIVE 2]\n",
    "1. ...\n",
    "\n",
    "## Scenario\n",
    "\n",
    "[IF THE SAMPLE IS DEMONSTRATED THROUGH A USE CASE OR SCENARIO, PLEASE DETAIL IT HERE. OTHERWISE, DELETE THIS SECTION]\n",
    "\n",
    "## Lab Components\n",
    "\n",
    "[DESCRIBE IN MORE DETAIL WHAT THIS LAB SETS UP AND HOW THIS BENEFITS THE LEARNER/USER.]\n",
    "\n",
    "## Configuration\n",
    "\n",
    "1. Decide which of the [Infrastructure Architectures](../../README.md#infrastructure-architectures) you wish to use.\n",
    "    1. If the infrastructure _does not_ yet exist, navigate to the desired [infrastructure](../../infrastructure/) folder and follow its README.md.\n",
    "    1. If the infrastructure _does_ exist, adjust the `user-defined parameters` in the _Initialize notebook variables_ below. Please ensure that all parameters match your infrastructure."
   ]
  },
  {
   "cell_type": "markdown",
   "metadata": {},
   "source": [
    "### Initialize notebook variables\n",
    "\n",
    "Configures everything that's needed for deployment. \n",
    "\n",
    "[ADD ANY SPECIAL INSTRUCTIONS]\n",
    "\n",
    "**Modify entries under _1) User-defined parameters_ and _3) Define the APIs and their operations and policies_**."
   ]
  },
  {
   "cell_type": "code",
   "execution_count": null,
   "metadata": {},
   "outputs": [],
   "source": [
    "import utils\n",
    "from apimtypes import *\n",
    "\n",
    "# 1) User-defined parameters (change these as needed)\n",
    "rg_location = 'eastus2'\n",
    "index       = 1\n",
    "deployment  = INFRASTRUCTURE.AFD_APIM_PE\n",
    "tags        = ['tag1', 'tag2', '...']       # ENTER DESCRIPTIVE TAG(S)\n",
    "api_prefix  = ''                            # OPTIONAL: ENTER A PREFIX FOR THE APIS TO REDUCE COLLISION POTENTIAL WITH OTHER SAMPLES\n",
    "\n",
    "# 2) Service-defined parameters (please do not change these)\n",
    "rg_name = utils.get_infra_rg_name(deployment, index)\n",
    "supported_infrastructures = []              # ENTER SUPPORTED INFRASTRUCTURES HERE, e.g., [INFRASTRUCTURE.AFD_APIM_PE, INFRASTRUCTURE.AFD_APIM_FE]\n",
    "utils.validate_infrastructure(deployment, supported_infrastructures)\n",
    "\n",
    "# 3) Define the APIs and their operations and policies\n",
    "\n",
    "# API 1\n",
    "# api1_get = GET_APIOperation('This is a GET for API 1')\n",
    "# api1_post = POST_APIOperation('This is a POST for API 1')\n",
    "# api1 = API('API1', 'API 1', '/api1', 'This is API 1', operations = [api1_get, api1_post], tags = tags)\n",
    "\n",
    "# API n\n",
    "# ...\n",
    "\n",
    "# APIs Array\n",
    "# apis: List[API] = [api1, apin]\n",
    "apis: List[API] = []\n",
    "\n",
    "utils.print_ok('Notebook initialized')"
   ]
  },
  {
   "cell_type": "markdown",
   "metadata": {},
   "source": [
    "### Create deployment using Bicep\n",
    "\n",
    "Creates the bicep deployment into the previously-specified resource group. A bicep parameters file will be created prior to execution."
   ]
  },
  {
   "cell_type": "code",
   "execution_count": null,
   "metadata": {},
   "outputs": [],
   "source": [
    "import utils\n",
    "\n",
    "# 1) Define the Bicep parameters with serialized APIs\n",
    "bicep_parameters = {\n",
    "    'apis': {'value': [api.to_dict() for api in apis]}\n",
    "}\n",
    "\n",
    "# 2) Infrastructure must be in place before samples can be layered on top\n",
    "if not utils.does_resource_group_exist(rg_name):\n",
    "    utils.print_error(f'The specified infrastructure resource group and its resources must exist first. Please check that the user-defined parameters above are correctly referencing an existing infrastructure. If it does not yet exist, run the desired infrastructure in the /infra/ folder first.')\n",
    "    raise SystemExit(1)\n",
    "\n",
    "# 3) Run the deployment\n",
    "output = utils.create_bicep_deployment_group(rg_name, rg_location, deployment, bicep_parameters)\n",
    "\n",
    "# 4) Print a deployment summary, if successful; otherwise, exit with an error\n",
    "if not output.success:\n",
    "    raise SystemExit('Deployment failed')\n",
    "\n",
    "if output.success and output.json_data:\n",
    "    apim_gateway_url = output.get('apimResourceGatewayURL', 'APIM API Gateway URL')\n",
    "\n",
    "utils.print_ok('Deployment completed')"
   ]
  },
  {
   "cell_type": "markdown",
   "metadata": {},
   "source": [
    "### Verify API Request Success\n",
    "\n",
    "Assert that the deployment was successful by making simple calls to APIM. \n",
    "\n",
    "❗️ If the infrastructure shields APIM and requires a different ingress (e.g. Azure Front Door), the request to the APIM gateway URl will fail by design. Obtain the Front Door endpoint hostname and try that instead."
   ]
  },
  {
   "cell_type": "code",
   "execution_count": null,
   "metadata": {},
   "outputs": [],
   "source": [
    "import utils\n",
    "from apimrequests import ApimRequests\n",
    "\n",
    "# [ADD RELEVANT TESTS HERE]\n",
    "\n",
    "# 1) Issue a direct request to API Management\n",
    "# reqsApim = ApimRequests(apim_gateway_url)\n",
    "# reqsApim.singleGet('/request-headers', msg = 'Calling Request Headers API via API Management Gateway URL. Response codes 200 and 403 are both valid depending on the infrastructure used.')\n",
    "\n",
    "# # 2) Issue requests against Front Door.\n",
    "# # Check if the infrastructure architecture deployment uses Azure Front Door.\n",
    "# utils.print_message('Checking if the infrastructure architecture deployment uses Azure Front Door.', blank_above = True)\n",
    "# afd_endpoint_url = utils.get_frontdoor_url(deployment, rg_name)\n",
    "\n",
    "# if afd_endpoint_url:\n",
    "#     reqsAfd = ApimRequests(afd_endpoint_url)\n",
    "#     reqsAfd.singleGet('/request-headers', msg = 'Calling Request Headers API via via Azure Front Door. Expect 200.')\n",
    "\n",
    "utils.print_ok('All done!')"
   ]
  }
 ],
 "metadata": {
  "kernelspec": {
   "display_name": ".venv",
   "language": "python",
   "name": "python3"
  },
  "language_info": {
   "codemirror_mode": {
    "name": "ipython",
    "version": 3
   },
   "file_extension": ".py",
   "mimetype": "text/x-python",
   "name": "python",
   "nbconvert_exporter": "python",
   "pygments_lexer": "ipython3",
   "version": "3.12.10"
  }
 },
 "nbformat": 4,
 "nbformat_minor": 2
}
