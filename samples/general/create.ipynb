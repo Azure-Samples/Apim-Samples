{
 "cells": [
  {
   "cell_type": "markdown",
   "metadata": {},
   "source": [
    "### 🛠️ Initialize Notebook Variables\n",
    "\n",
    "**Only modify entries under _USER CONFIGURATION_.**"
   ]
  },
  {
   "cell_type": "code",
   "execution_count": null,
   "metadata": {},
   "outputs": [],
   "source": [
    "import utils\n",
    "from apimtypes import *\n",
    "\n",
    "# ------------------------------\n",
    "#    USER CONFIGURATION\n",
    "# ------------------------------\n",
    "\n",
    "rg_location = 'eastus2'\n",
    "index       = 1\n",
    "apim_sku    = APIM_SKU.BASICV2              # Options: 'BASICV2', 'STANDARDV2', 'PREMIUMV2'\n",
    "deployment  = INFRASTRUCTURE.SIMPLE_APIM    # Options: 'AFD_APIM_PE', 'APIM_ACA', 'SIMPLE_APIM'\n",
    "api_prefix  = ''            # Not defining a prefix for general as these APIs will live off the root\n",
    "tags        = ['general']\n",
    "\n",
    "\n",
    "\n",
    "# ------------------------------\n",
    "#    SYSTEM CONFIGURATION\n",
    "# ------------------------------\n",
    "\n",
    "sample_folder    = 'general'\n",
    "rg_name          = utils.get_infra_rg_name(deployment, index)\n",
    "supported_infras = [INFRASTRUCTURE.AFD_APIM_PE, INFRASTRUCTURE.APIM_ACA, INFRASTRUCTURE.SIMPLE_APIM]\n",
    "nb_helper        = utils.NotebookHelper(sample_folder, rg_name, rg_location, deployment, supported_infras, index = index, apim_sku = apim_sku)\n",
    "\n",
    "# Define the APIs and their operations and policies\n",
    "\n",
    "# API 1\n",
    "api1_path = f'{api_prefix}api1'\n",
    "api1_get  = GET_APIOperation('This is a GET for API 1')\n",
    "api1_post = POST_APIOperation('This is a POST for API 1')\n",
    "api1      = API(api1_path, 'API 1', api1_path, 'This is API 1', operations = [api1_get, api1_post], tags = tags)\n",
    "\n",
    "# API 2\n",
    "api2_path = f'{api_prefix}api2'\n",
    "api2_post = POST_APIOperation('This is a POST for API 2')\n",
    "api2      = API(api2_path, 'API 2', api2_path, 'This is API 2', operations = [api2_post], tags = tags)\n",
    "\n",
    "# API 3: Request Headers\n",
    "rh_path                 = f'{api_prefix}request-headers'\n",
    "pol_request_headers_get = utils.read_policy_xml(REQUEST_HEADERS_XML_POLICY_PATH)\n",
    "request_headers_get     = GET_APIOperation('Gets the request headers for the current request and returns them. Great for troubleshooting.', pol_request_headers_get)\n",
    "request_headers         = API(rh_path, 'Request Headers', rh_path, 'API for request headers', operations = [request_headers_get], tags = tags)\n",
    "\n",
    "# APIs Array\n",
    "apis: List[API] = [api1, api2, request_headers]\n",
    "\n",
    "utils.print_ok('Notebook initialized')"
   ]
  },
  {
   "cell_type": "markdown",
   "metadata": {},
   "source": [
    "### 🚀 Deploy Infrastructure and APIs\n",
    "\n",
    "Creates the bicep deployment into the previously-specified resource group. A bicep parameters, `params.json`, file will be created prior to execution."
   ]
  },
  {
   "cell_type": "code",
   "execution_count": null,
   "metadata": {},
   "outputs": [],
   "source": [
    "# Build the bicep parameters\n",
    "bicep_parameters = {\n",
    "    'apis': {'value': [api.to_dict() for api in apis]}\n",
    "}\n",
    "\n",
    "# Deploy the sample\n",
    "output = nb_helper.deploy_sample(bicep_parameters)\n",
    "\n",
    "if output.success:\n",
    "    # Extract deployment outputs for testing\n",
    "    apim_gateway_url = output.get('apimResourceGatewayURL', 'APIM Gateway URL')\n",
    "    apim_apis        = output.getJson('apiOutputs', 'APIs')\n",
    "\n",
    "    utils.print_ok('Deployment completed successfully')\n",
    "else:\n",
    "    utils.print_error(\"Deployment failed!\")\n",
    "    raise SystemExit(1)"
   ]
  },
  {
   "cell_type": "markdown",
   "metadata": {},
   "source": [
    "### ✅ Verify Deployment\n",
    "\n",
    "Assert that the deployment was successful by making simple calls to APIM. \n",
    "\n",
    "❗️ If the infrastructure shields APIM and requires a different ingress (e.g. Azure Front Door), the request to the APIM gateway URl will fail by design. Obtain the Front Door endpoint hostname and try that instead."
   ]
  },
  {
   "cell_type": "code",
   "execution_count": null,
   "metadata": {},
   "outputs": [],
   "source": [
    "from apimrequests import ApimRequests\n",
    "from apimtesting import ApimTesting\n",
    "\n",
    "# Initialize testing framework\n",
    "tests = ApimTesting(\"General Sample Tests\", sample_folder, nb_helper.deployment)\n",
    "api_subscription_key = apim_apis[2]['subscriptionPrimaryKey']\n",
    "\n",
    "# Preflight: Check if the infrastructure architecture deployment uses Azure Front Door. If so, assume that APIM is not directly accessible and use the Front Door URL instead.\n",
    "endpoint_url = utils.test_url_preflight_check(deployment, rg_name, apim_gateway_url)\n",
    "\n",
    "# 1) Request Headers\n",
    "reqs = ApimRequests(endpoint_url, api_subscription_key)\n",
    "output = reqs.singleGet('/request-headers', msg = 'Calling Request Headers API via Azure Front Door. Expect 200.')\n",
    "tests.verify('Host:' in output, True)\n",
    "\n",
    "tests.print_summary()\n",
    "\n",
    "utils.print_ok('All done!')"
   ]
  }
 ],
 "metadata": {
  "kernelspec": {
   "display_name": "APIM Samples Python 3.12",
   "language": "python",
   "name": "apim-samples"
  },
  "language_info": {
   "codemirror_mode": {
    "name": "ipython",
    "version": 3
   },
   "file_extension": ".py",
   "mimetype": "text/x-python",
   "name": "python",
   "nbconvert_exporter": "python",
   "pygments_lexer": "ipython3",
   "version": "3.12.10"
  }
 },
 "nbformat": 4,
 "nbformat_minor": 2
}
