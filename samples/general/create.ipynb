{
 "cells": [
  {
   "cell_type": "markdown",
   "metadata": {},
   "source": [
    "# Samples: General\n",
    "\n",
    "Sets up a simple APIM instance with a variety of policies to experiment.\n",
    "\n",
    "⌚ **Expected *Run All* runtime (excl. infrastructure prerequisite): ~1 minute**\n",
    "\n",
    "## Objectives\n",
    "\n",
    "1. Experience a variety of policies in any of the infrastructure architectures. You may see several examples from our [APIM policy snippets repo](https://github.com/Azure/api-management-policy-snippets).\n",
    "1. Become proficient with how policies operate.\n",
    "1. Gain confidence in setting up and configuring policies appropriately.\n",
    "\n",
    "## Configuration\n",
    "\n",
    "1. Decide which of the [Infrastructure Architectures](../../README.md#infrastructure-architectures) you wish to use.\n",
    "    1. If the infrastructure _does not_ yet exist, navigate to the desired [infrastructure](../../infrastructure/) folder and follow its README.md.\n",
    "    1. If the infrastructure _does_ exist, adjust the `user-defined parameters` in the _Initialize notebook variables_ below. Please ensure that all parameters match your infrastructure."
   ]
  },
  {
   "cell_type": "markdown",
   "metadata": {},
   "source": [
    "### Initialize notebook variables\n",
    "\n",
    "Configures everything that's needed for deployment. **Modify entries under _1) User-defined parameters_**."
   ]
  },
  {
   "cell_type": "code",
   "execution_count": null,
   "metadata": {},
   "outputs": [],
   "source": [
    "import utils\n",
    "from apimtypes import *\n",
    "\n",
    "# 1) User-defined parameters (change these as needed)\n",
    "rg_location = 'eastus2'\n",
    "index       = 1\n",
    "deployment  = INFRASTRUCTURE.AFD_APIM_PE\n",
    "tags        = ['general']\n",
    "\n",
    "# 2) Service-defined parameters (please do not change these)\n",
    "rg_name = utils.get_infra_rg_name(deployment, index)\n",
    "\n",
    "# 3) Define the APIs and their operations and policies\n",
    "\n",
    "# Policies\n",
    "default_policy_xml  = utils.policy_xml_replacement(DEFAULT_XML_POLICY_PATH)\n",
    "rh_policy_xml       = utils.policy_xml_replacement(REQUEST_HEADERS_XML_POLICY_PATH)\n",
    "\n",
    "# API 1\n",
    "api1_get = GET_APIOperation('This is a GET for API 1', default_policy_xml)\n",
    "api1_post = POST_APIOperation('This is a POST for API 1', default_policy_xml)\n",
    "api1 = API('API1', 'API 1', '/api1', 'This is API 1', default_policy_xml, [api1_get, api1_post], tags)\n",
    "\n",
    "# API 2\n",
    "api2_post = POST_APIOperation('This is a POST for API 2', default_policy_xml)\n",
    "api2 = API('API2', 'API 2', '/api2', 'This is API 2', default_policy_xml, [api2_post], tags)\n",
    "\n",
    "# Request Headers\n",
    "rh_get = GET_APIOperation('Gets the request headers for the current request and returns them. Great for troubleshooting.', rh_policy_xml)\n",
    "rh = API('requestheaders', 'Request Headers', '/request-headers', 'API for request headers', default_policy_xml, [rh_get], tags)\n",
    "\n",
    "# APIs Array\n",
    "apis: List[API] = [api1, api2, rh]\n",
    "\n",
    "utils.print_ok('Notebook initialized')"
   ]
  },
  {
   "cell_type": "markdown",
   "metadata": {},
   "source": [
    "### Create deployment using Bicep\n",
    "\n",
    "Creates the bicep deployment into the previously-specified resource group. A bicep parameters file will be created prior to execution."
   ]
  },
  {
   "cell_type": "code",
   "execution_count": null,
   "metadata": {},
   "outputs": [],
   "source": [
    "import utils\n",
    "\n",
    "# 1) Define the Bicep parameters with serialized APIs\n",
    "bicep_parameters = {\n",
    "    'apis': {'value': [api.to_dict() for api in apis]}\n",
    "}\n",
    "\n",
    "# 2) Infrastructure must be in place before samples can be layered on top\n",
    "if not utils.does_resource_group_exist(rg_name):\n",
    "    utils.print_error(f'The specified infrastructure resource group and its resources must exist first. Please check that the user-defined parameters above are correctly referencing an existing infrastructure. If it does not yet exist, run the desired infrastructure in the /infra/ folder first.')\n",
    "    raise SystemExit(1)\n",
    "\n",
    "# 3) Run the deployment\n",
    "output = utils.create_bicep_deployment_group(rg_name, rg_location, deployment, bicep_parameters)\n",
    "\n",
    "# 4) Check the deployment outputs\n",
    "if output.success and output.json_data:\n",
    "    apim_gateway_url = output.get('apimResourceGatewayURL', 'APIM API Gateway URL')\n",
    "\n",
    "utils.print_ok('Deployment completed')"
   ]
  },
  {
   "cell_type": "markdown",
   "metadata": {},
   "source": [
    "### Verify API Request Success\n",
    "\n",
    "Assert that the deployment was successful by making simple calls to APIM. \n",
    "\n",
    "❗️ If the infrastructure shields APIM and requires a different ingress (e.g. Azure Front Door), the request to the APIM gateway URl will fail by design. Obtain the Front Door endpoint hostname and try that instead."
   ]
  },
  {
   "cell_type": "code",
   "execution_count": null,
   "metadata": {},
   "outputs": [],
   "source": [
    "import utils\n",
    "from apimrequests import ApimRequests\n",
    "\n",
    "reqsApim = ApimRequests(apim_gateway_url)\n",
    "reqsApim.singleGet('/request-headers', msg = 'Calling Request Headers API via API Management Gateway URL. Response codes 200 and 403 are both valid depending on the infrastructure used.')\n",
    "\n",
    "# Check if the infrastructure architecture deployment uses Azure Front Door.\n",
    "utils.print_message('Checking if the infrastructure architecture deployment uses Azure Front Door.', blank_above = True)\n",
    "afd_endpoint_url = utils.get_frontdoor_url(deployment, rg_name)\n",
    "\n",
    "if afd_endpoint_url:\n",
    "    reqsAfd = ApimRequests(afd_endpoint_url)\n",
    "    reqsAfd.singleGet('/request-headers', msg = 'Calling Request Headers API via via Azure Front Door. Expect 200.')\n",
    "\n",
    "utils.print_ok('All done!')"
   ]
  },
  {
   "cell_type": "markdown",
   "metadata": {},
   "source": [
    "<a id='clean'></a>\n",
    "### Clean up resources\n",
    "\n",
    "When you're finished experimenting, consider cleaning up the infrastructure, if no longer needed to avoid unnecessary costs. Look for the clean-up notebook (`clean-up.ipynb`) in the infrastructure's respective folder."
   ]
  }
 ],
 "metadata": {
  "kernelspec": {
   "display_name": ".venv",
   "language": "python",
   "name": "python3"
  },
  "language_info": {
   "codemirror_mode": {
    "name": "ipython",
    "version": 3
   },
   "file_extension": ".py",
   "mimetype": "text/x-python",
   "name": "python",
   "nbconvert_exporter": "python",
   "pygments_lexer": "ipython3",
   "version": "3.12.10"
  }
 },
 "nbformat": 4,
 "nbformat_minor": 2
}
