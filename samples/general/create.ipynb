{
 "cells": [
  {
   "cell_type": "markdown",
   "metadata": {},
   "source": [
    "### Initialize notebook variables\n",
    "\n",
    "Configures everything that's needed for deployment. \n",
    "\n",
    "**Modify entries under _1) User-defined parameters_ and _2) Define the APIs and their operations and policies_**."
   ]
  },
  {
   "cell_type": "code",
   "execution_count": null,
   "metadata": {},
   "outputs": [],
   "source": [
    "import utils\n",
    "from apimtypes import *\n",
    "\n",
    "# 1) User-defined parameters (change these as needed)\n",
    "rg_location = 'eastus2'\n",
    "index       = 1\n",
    "deployment  = INFRASTRUCTURE.SIMPLE_APIM\n",
    "tags        = ['general']\n",
    "\n",
    "# 2) Define the APIs and their operations and policies\n",
    "\n",
    "# API 1\n",
    "api1_get = GET_APIOperation('This is a GET for API 1')\n",
    "api1_post = POST_APIOperation('This is a POST for API 1')\n",
    "api1 = API('API1', 'API 1', '/api1', 'This is API 1', operations = [api1_get, api1_post], tags = tags)\n",
    "\n",
    "# API 2\n",
    "api2_post = POST_APIOperation('This is a POST for API 2')\n",
    "api2 = API('API2', 'API 2', '/api2', 'This is API 2', operations = [api2_post], tags = tags)\n",
    "\n",
    "# Request Headers\n",
    "pol_request_headers_get = utils.read_policy_xml(REQUEST_HEADERS_XML_POLICY_PATH)\n",
    "request_headers_get     = GET_APIOperation('Gets the request headers for the current request and returns them. Great for troubleshooting.', pol_request_headers_get)\n",
    "request_headers         = API('requestheaders', 'Request Headers', '/request-headers', 'API for request headers', operations = [request_headers_get], tags = tags)\n",
    "\n",
    "# APIs Array\n",
    "apis: List[API] = [api1, api2, request_headers]\n",
    "\n",
    "utils.print_ok('Notebook initialized')"
   ]
  },
  {
   "cell_type": "markdown",
   "metadata": {},
   "source": [
    "### Create deployment using Bicep\n",
    "\n",
    "Creates the bicep deployment into the previously-specified resource group. A bicep parameters file will be created prior to execution."
   ]
  },
  {
   "cell_type": "code",
   "execution_count": null,
   "metadata": {},
   "outputs": [],
   "source": [
    "# Build the bicep parameters\n",
    "bicep_parameters = {\n",
    "    'apis': {'value': [api.to_dict() for api in apis]}\n",
    "}\n",
    "\n",
    "# Create the deployment helper and deploy the sample\n",
    "nb_helper = utils.NotebookHelper('general', utils.get_infra_rg_name(deployment, index), rg_location, deployment, [INFRASTRUCTURE.AFD_APIM_PE, INFRASTRUCTURE.APIM_ACA, INFRASTRUCTURE.SIMPLE_APIM], index = index)\n",
    "output = nb_helper.deploy_sample(bicep_parameters)\n",
    "\n",
    "if output.success:\n",
    "    # Extract deployment outputs for testing\n",
    "    apim_gateway_url = output.get('apimResourceGatewayURL', 'APIM Gateway URL')\n",
    "    apim_apis = output.getJson('apiOutputs', 'APIs')\n",
    "\n",
    "    print(f\"✅ Sample deployment completed successfully!\")\n",
    "else:\n",
    "    print(\"❌ Sample deployment failed!\")\n",
    "    raise SystemExit(1)"
   ]
  },
  {
   "cell_type": "markdown",
   "metadata": {},
   "source": [
    "### Verify API Request Success\n",
    "\n",
    "Assert that the deployment was successful by making simple calls to APIM. \n",
    "\n",
    "❗️ If the infrastructure shields APIM and requires a different ingress (e.g. Azure Front Door), the request to the APIM gateway URl will fail by design. Obtain the Front Door endpoint hostname and try that instead."
   ]
  },
  {
   "cell_type": "code",
   "execution_count": null,
   "metadata": {},
   "outputs": [],
   "source": [
    "from apimrequests import ApimRequests\n",
    "from apimtesting import ApimTesting\n",
    "\n",
    "# Initialize testing framework\n",
    "tests = ApimTesting(\"General Sample Tests\", 'general', nb_helper.deployment)\n",
    "api_subscription_key = apim_apis[2]['subscriptionPrimaryKey']\n",
    "\n",
    "# Check if the infrastructure uses Azure Front Door\n",
    "utils.print_message('Checking infrastructure endpoint...', blank_above = True)\n",
    "afd_endpoint_url = utils.get_frontdoor_url(nb_helper.deployment, nb_helper.rg_name)\n",
    "\n",
    "if afd_endpoint_url:\n",
    "    # Test via Azure Front Door\n",
    "    reqsAfd = ApimRequests(afd_endpoint_url, api_subscription_key)\n",
    "    output = reqsAfd.singleGet('/request-headers', msg = 'Calling Request Headers API via Azure Front Door. Expect 200.')\n",
    "    tests.verify('Host:' in output, True)\n",
    "else:\n",
    "    # Test via API Management directly\n",
    "    reqsApim = ApimRequests(apim_gateway_url, api_subscription_key)\n",
    "    output = reqsApim.singleGet('/request-headers', msg = 'Calling Request Headers API via API Management Gateway. Response codes 200 and 403 are both valid.')\n",
    "    tests.verify('Host:' in output, True)\n",
    "\n",
    "tests.print_summary()\n",
    "utils.print_ok('All done!')"
   ]
  }
 ],
 "metadata": {
  "kernelspec": {
   "display_name": ".venv (3.12.10)",
   "language": "python",
   "name": "python3"
  },
  "language_info": {
   "codemirror_mode": {
    "name": "ipython",
    "version": 3
   },
   "file_extension": ".py",
   "mimetype": "text/x-python",
   "name": "python",
   "nbconvert_exporter": "python",
   "pygments_lexer": "ipython3",
   "version": "3.12.10"
  }
 },
 "nbformat": 4,
 "nbformat_minor": 2
}
